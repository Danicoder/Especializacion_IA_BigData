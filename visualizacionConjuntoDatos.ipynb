{
  "cells": [
    {
      "cell_type": "markdown",
      "metadata": {
        "id": "view-in-github",
        "colab_type": "text"
      },
      "source": [
        "<a href=\"https://colab.research.google.com/github/Danicoder/Especializacion_IA_BigData/blob/main/visualizacionConjuntoDatos.ipynb\" target=\"_parent\"><img src=\"https://colab.research.google.com/assets/colab-badge.svg\" alt=\"Open In Colab\"/></a>"
      ]
    },
    {
      "cell_type": "code",
      "source": [
        "from google.colab import files\n",
        "\n",
        "import pandas as pd\n",
        "import numpy as np\n",
        "uploaded1 = files.upload()\n",
        "uploaded2 = files.upload()\n"
      ],
      "metadata": {
        "id": "DKeMtFeNyKdG"
      },
      "execution_count": null,
      "outputs": []
    },
    {
      "cell_type": "code",
      "source": [
        "with open(\"KDDTrain%2B.txt\") as train_set:\n",
        "    df= train_set.readlines()\n",
        "print(df)"
      ],
      "metadata": {
        "id": "IC-HND0gyS1h"
      },
      "execution_count": null,
      "outputs": []
    },
    {
      "cell_type": "code",
      "source": [
        "import arff\n",
        "import pandas as pd\n",
        "import numpy as np\n",
        "from sklearn.model_selection import train_test_split\n",
        "from sklearn.preprocessing import RobustScaler\n",
        "from sklearn.compose import ColumnTransformer\n",
        "from sklearn.preprocessing import OneHotEncoder\n",
        "from sklearn.pipeline import Pipeline\n",
        "from sklearn.preprocessing import RobustScaler\n",
        "from sklearn.impute import SimpleImputer\n",
        "from sklearn.base import BaseEstimator, TransformerMixin"
      ],
      "metadata": {
        "id": "n_DOQiJJyUZg"
      },
      "execution_count": null,
      "outputs": []
    },
    {
      "cell_type": "code",
      "source": [
        "df =pd = pd.read_csv(\"KDDTrain%2B.txt\")\n",
        "df.head()"
      ],
      "metadata": {
        "id": "FPF1j-slyWe5"
      },
      "execution_count": null,
      "outputs": []
    },
    {
      "cell_type": "code",
      "source": [
        "pip install liac-arff"
      ],
      "metadata": {
        "id": "r1tOyuzwyYVd"
      },
      "execution_count": null,
      "outputs": []
    },
    {
      "cell_type": "code",
      "source": [
        "import arff\n",
        "\n",
        "with open('KDDTrain%2B.arff','r') as train_set:\n",
        "    df = arff.load(train_set)\n",
        "df.keys()"
      ],
      "metadata": {
        "id": "zUzI-PKIyaO9"
      },
      "execution_count": null,
      "outputs": []
    },
    {
      "cell_type": "code",
      "source": [
        "print(df['data'])"
      ],
      "metadata": {
        "id": "v6Em81Ofyfuz"
      },
      "execution_count": null,
      "outputs": []
    },
    {
      "cell_type": "code",
      "source": [
        "print(df['attributes'])"
      ],
      "metadata": {
        "id": "5okdLjQMyilv"
      },
      "execution_count": null,
      "outputs": []
    },
    {
      "cell_type": "code",
      "source": [
        "atributos = [attr[0] for attr in df['attributes']]\n",
        "atributos"
      ],
      "metadata": {
        "id": "9bwCWl6iyioo"
      },
      "execution_count": null,
      "outputs": []
    },
    {
      "cell_type": "code",
      "source": [
        "import arff\n",
        "import pandas as pd # Make sure pd refers to the pandas library\n",
        "import numpy as np\n",
        "\n",
        "def load_kdd_dataset(data_path):\n",
        "    \"\"\"Lectura del conjunto de datos NSL-KDD.\"\"\"\n",
        "    with open(data_path, 'r') as train_set:\n",
        "        dataset = arff.load(train_set)\n",
        "    attributes = [attr[0] for attr in dataset[\"attributes\"]]\n",
        "    return pd.DataFrame(dataset[\"data\"], columns=attributes)"
      ],
      "metadata": {
        "id": "DIi8V3AoyirF"
      },
      "execution_count": null,
      "outputs": []
    },
    {
      "cell_type": "code",
      "source": [
        "load_kdd_dataset(\"KDDTrain%2B.arff\")"
      ],
      "metadata": {
        "id": "deSEmaJmyitt"
      },
      "execution_count": null,
      "outputs": []
    },
    {
      "cell_type": "code",
      "source": [
        "df_orig = load_kdd_dataset('KDDTrain%2B.arff')\n",
        "df = df_orig.copy()"
      ],
      "metadata": {
        "id": "_RNTYgvEyiwN"
      },
      "execution_count": null,
      "outputs": []
    },
    {
      "cell_type": "code",
      "source": [
        "df.head(10)"
      ],
      "metadata": {
        "id": "bQIbYA4vyiyp"
      },
      "execution_count": null,
      "outputs": []
    },
    {
      "cell_type": "code",
      "source": [
        "df.info()"
      ],
      "metadata": {
        "id": "OPBjboB9ysrF"
      },
      "execution_count": null,
      "outputs": []
    },
    {
      "cell_type": "code",
      "source": [
        "df.describe()"
      ],
      "metadata": {
        "id": "6ht_sI_WysuJ"
      },
      "execution_count": null,
      "outputs": []
    },
    {
      "cell_type": "code",
      "source": [
        "df['protocol_type'].value_counts()"
      ],
      "metadata": {
        "id": "7R8OwEdMyswj"
      },
      "execution_count": null,
      "outputs": []
    },
    {
      "cell_type": "code",
      "source": [
        "df['class'].value_counts()"
      ],
      "metadata": {
        "id": "uTb1igmlys0j"
      },
      "execution_count": null,
      "outputs": []
    }
  ],
  "metadata": {
    "colab": {
      "name": "Te damos la bienvenida a Colaboratory",
      "toc_visible": true,
      "provenance": [],
      "include_colab_link": true
    },
    "kernelspec": {
      "display_name": "Python 3",
      "name": "python3"
    }
  },
  "nbformat": 4,
  "nbformat_minor": 0
}