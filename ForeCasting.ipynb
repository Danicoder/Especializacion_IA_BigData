{
  "cells": [
    {
      "cell_type": "markdown",
      "metadata": {
        "id": "view-in-github",
        "colab_type": "text"
      },
      "source": [
        "<a href=\"https://colab.research.google.com/github/Danicoder/Especializacion_IA_BigData/blob/main/ForeCasting.ipynb\" target=\"_parent\"><img src=\"https://colab.research.google.com/assets/colab-badge.svg\" alt=\"Open In Colab\"/></a>"
      ]
    },
    {
      "cell_type": "code",
      "source": [
        "!pip install skforecast"
      ],
      "metadata": {
        "id": "sruBQQemTpGD"
      },
      "execution_count": null,
      "outputs": []
    },
    {
      "cell_type": "code",
      "source": [
        "# Procesado de datos\n",
        "# ==============================================================================\n",
        "import os\n",
        "import pandas as pd\n",
        "import numpy as np\n",
        "from skforecast.datasets import fetch_dataset\n",
        "\n",
        "# Gráficos\n",
        "# ==============================================================================\n",
        "import matplotlib.pyplot as plt\n",
        "from skforecast.plot import set_dark_theme\n",
        "import plotly.express as px\n",
        "import plotly.graph_objects as go\n",
        "import plotly.io as pio\n",
        "import plotly.offline as poff\n",
        "pio.templates.default = \"seaborn\"\n",
        "#poff.init_notebook_mode(connected=True)\n",
        "\n",
        "# Keras\n",
        "# ==============================================================================\n",
        "os.environ[\"KERAS_BACKEND\"] = \"tensorflow\" # 'tensorflow', 'jax´ or 'torch'\n",
        "import keras\n",
        "from keras.optimizers import Adam\n",
        "from keras.losses import MeanSquaredError\n",
        "from keras.callbacks import EarlyStopping\n",
        "\n",
        "if keras.__version__ > \"3.0\":\n",
        "    if keras.backend.backend() == \"tensorflow\":\n",
        "        import tensorflow\n",
        "    elif keras.backend.backend() == \"torch\":\n",
        "        import torch\n",
        "    else:\n",
        "        print(\"Backend not recognized. Please use 'tensorflow' or 'torch'.\")\n",
        "\n",
        "# Modelado\n",
        "# ==============================================================================\n",
        "import skforecast\n",
        "from skforecast.deep_learning import ForecasterRnn\n",
        "from skforecast.deep_learning.utils import create_and_compile_model\n",
        "from sklearn.preprocessing import MinMaxScaler\n",
        "from skforecast.model_selection import TimeSeriesFold\n",
        "from skforecast.model_selection import backtesting_forecaster_multiseries\n",
        "\n",
        "# Configuración warnings\n",
        "# ==============================================================================\n",
        "import warnings\n",
        "warnings.filterwarnings('ignore')\n",
        "\n",
        "color = '\\033[1m\\033[38;5;208m'\n",
        "print(f\"{color}Version skforecast: {skforecast.__version__}\")\n",
        "print(f\"{color}Version Keras: {keras.__version__}\")\n",
        "print(f\"{color}Using backend: {keras.backend.backend()}\")\n",
        "print(f\"{color}Version pandas: {pd.__version__}\")\n",
        "print(f\"{color}Version numpy: {np.__version__}\")\n",
        "if keras.__version__ > \"3.0\":\n",
        "    if keras.backend.backend() == \"tensorflow\":\n",
        "        print(f\"{color}Version tensorflow: {tensorflow.__version__}\")\n",
        "    elif keras.backend.backend() == \"torch\":\n",
        "        print(f\"{color}Version torch: {torch.__version__}\")\n",
        "    else:\n",
        "        print(f\"{color}Version torch: {jax.__version__}\")"
      ],
      "metadata": {
        "id": "VIDp6mcfTpLX"
      },
      "execution_count": null,
      "outputs": []
    },
    {
      "cell_type": "code",
      "source": [
        "import pandas as pd\n",
        "df = pd.read_csv('BTC-USD.csv')"
      ],
      "metadata": {
        "id": "8e3qaATnXrl4"
      },
      "execution_count": null,
      "outputs": []
    }
  ],
  "metadata": {
    "colab": {
      "name": "Te damos la bienvenida a Colaboratory",
      "provenance": [],
      "gpuType": "T4",
      "include_colab_link": true
    },
    "kernelspec": {
      "display_name": "Python 3",
      "name": "python3"
    },
    "accelerator": "GPU"
  },
  "nbformat": 4,
  "nbformat_minor": 0
}