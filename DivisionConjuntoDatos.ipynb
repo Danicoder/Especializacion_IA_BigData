{
  "cells": [
    {
      "cell_type": "markdown",
      "metadata": {
        "id": "view-in-github",
        "colab_type": "text"
      },
      "source": [
        "<a href=\"https://colab.research.google.com/github/Danicoder/Especializacion_IA_BigData/blob/main/DivisionConjuntoDatos.ipynb\" target=\"_parent\"><img src=\"https://colab.research.google.com/assets/colab-badge.svg\" alt=\"Open In Colab\"/></a>"
      ]
    },
    {
      "cell_type": "code",
      "source": [
        "!pip install liac-arff"
      ],
      "metadata": {
        "id": "PTDiTLoQri6n",
        "outputId": "57936ec0-3194-44f0-808b-8c8060164fcc",
        "colab": {
          "base_uri": "https://localhost:8080/"
        }
      },
      "execution_count": 2,
      "outputs": [
        {
          "output_type": "stream",
          "name": "stdout",
          "text": [
            "Requirement already satisfied: liac-arff in /usr/local/lib/python3.11/dist-packages (2.5.0)\n"
          ]
        }
      ]
    },
    {
      "cell_type": "code",
      "source": [
        "import arff\n",
        "import pandas as pd\n",
        "import numpy as np\n",
        "from sklearn.model_selection import train_test_split\n",
        "import matplotlib.pyplot as plt\n",
        "\"\"\"from sklearn.preprocessing import RobustScaler\n",
        "from sklearn.compose import ColumnTransformer\n",
        "from sklearn.preprocessing import OneHotEncoder\n",
        "from sklearn.pipeline import Pipeline\n",
        "from sklearn.preprocessing import RobustScaler\n",
        "from sklearn.impute import SimpleImputer\n",
        "from sklearn.base import BaseEstimator, TransformerMixin\"\"\""
      ],
      "metadata": {
        "id": "sWbMsFC5rs7s",
        "outputId": "0227446b-23c9-4577-b64e-2ea249119ada",
        "colab": {
          "base_uri": "https://localhost:8080/",
          "height": 52
        }
      },
      "execution_count": 3,
      "outputs": [
        {
          "output_type": "execute_result",
          "data": {
            "text/plain": [
              "'from sklearn.preprocessing import RobustScaler\\nfrom sklearn.compose import ColumnTransformer\\nfrom sklearn.preprocessing import OneHotEncoder\\nfrom sklearn.pipeline import Pipeline\\nfrom sklearn.preprocessing import RobustScaler\\nfrom sklearn.impute import SimpleImputer\\nfrom sklearn.base import BaseEstimator, TransformerMixin'"
            ],
            "application/vnd.google.colaboratory.intrinsic+json": {
              "type": "string"
            }
          },
          "metadata": {},
          "execution_count": 3
        }
      ]
    },
    {
      "cell_type": "markdown",
      "source": [
        "Defino las funciones auxiliares"
      ],
      "metadata": {
        "id": "BOrqxNTar2hA"
      }
    },
    {
      "cell_type": "code",
      "source": [
        "def load_kdd_dataset(data_path):\n",
        "    \"\"\"Lectura del conjunto de datos NSL-KDD.\"\"\"\n",
        "    with open(data_path, 'r') as train_set:\n",
        "        dataset = arff.load(train_set)\n",
        "    attributes = [attr[0] for attr in dataset[\"attributes\"]]\n",
        "    return pd.DataFrame(dataset[\"data\"], columns=attributes)\n"
      ],
      "metadata": {
        "id": "w5o98F_Mr42N"
      },
      "execution_count": 4,
      "outputs": []
    },
    {
      "cell_type": "code",
      "source": [
        "from google.colab import files\n",
        "\n",
        "# Subir el archivo manualmente\n",
        "uploaded = files.upload()\n"
      ],
      "metadata": {
        "id": "_1M-XFfH2lYK",
        "outputId": "652ae679-b331-413e-b99e-867cc1441dca",
        "colab": {
          "base_uri": "https://localhost:8080/",
          "height": 71
        }
      },
      "execution_count": 5,
      "outputs": [
        {
          "output_type": "display_data",
          "data": {
            "text/plain": [
              "<IPython.core.display.HTML object>"
            ],
            "text/html": [
              "\n",
              "     <input type=\"file\" id=\"files-af5cd276-9384-448c-9faf-932e0b187a3a\" name=\"files[]\" multiple disabled\n",
              "        style=\"border:none\" />\n",
              "     <output id=\"result-af5cd276-9384-448c-9faf-932e0b187a3a\">\n",
              "      Upload widget is only available when the cell has been executed in the\n",
              "      current browser session. Please rerun this cell to enable.\n",
              "      </output>\n",
              "      <script>// Copyright 2017 Google LLC\n",
              "//\n",
              "// Licensed under the Apache License, Version 2.0 (the \"License\");\n",
              "// you may not use this file except in compliance with the License.\n",
              "// You may obtain a copy of the License at\n",
              "//\n",
              "//      http://www.apache.org/licenses/LICENSE-2.0\n",
              "//\n",
              "// Unless required by applicable law or agreed to in writing, software\n",
              "// distributed under the License is distributed on an \"AS IS\" BASIS,\n",
              "// WITHOUT WARRANTIES OR CONDITIONS OF ANY KIND, either express or implied.\n",
              "// See the License for the specific language governing permissions and\n",
              "// limitations under the License.\n",
              "\n",
              "/**\n",
              " * @fileoverview Helpers for google.colab Python module.\n",
              " */\n",
              "(function(scope) {\n",
              "function span(text, styleAttributes = {}) {\n",
              "  const element = document.createElement('span');\n",
              "  element.textContent = text;\n",
              "  for (const key of Object.keys(styleAttributes)) {\n",
              "    element.style[key] = styleAttributes[key];\n",
              "  }\n",
              "  return element;\n",
              "}\n",
              "\n",
              "// Max number of bytes which will be uploaded at a time.\n",
              "const MAX_PAYLOAD_SIZE = 100 * 1024;\n",
              "\n",
              "function _uploadFiles(inputId, outputId) {\n",
              "  const steps = uploadFilesStep(inputId, outputId);\n",
              "  const outputElement = document.getElementById(outputId);\n",
              "  // Cache steps on the outputElement to make it available for the next call\n",
              "  // to uploadFilesContinue from Python.\n",
              "  outputElement.steps = steps;\n",
              "\n",
              "  return _uploadFilesContinue(outputId);\n",
              "}\n",
              "\n",
              "// This is roughly an async generator (not supported in the browser yet),\n",
              "// where there are multiple asynchronous steps and the Python side is going\n",
              "// to poll for completion of each step.\n",
              "// This uses a Promise to block the python side on completion of each step,\n",
              "// then passes the result of the previous step as the input to the next step.\n",
              "function _uploadFilesContinue(outputId) {\n",
              "  const outputElement = document.getElementById(outputId);\n",
              "  const steps = outputElement.steps;\n",
              "\n",
              "  const next = steps.next(outputElement.lastPromiseValue);\n",
              "  return Promise.resolve(next.value.promise).then((value) => {\n",
              "    // Cache the last promise value to make it available to the next\n",
              "    // step of the generator.\n",
              "    outputElement.lastPromiseValue = value;\n",
              "    return next.value.response;\n",
              "  });\n",
              "}\n",
              "\n",
              "/**\n",
              " * Generator function which is called between each async step of the upload\n",
              " * process.\n",
              " * @param {string} inputId Element ID of the input file picker element.\n",
              " * @param {string} outputId Element ID of the output display.\n",
              " * @return {!Iterable<!Object>} Iterable of next steps.\n",
              " */\n",
              "function* uploadFilesStep(inputId, outputId) {\n",
              "  const inputElement = document.getElementById(inputId);\n",
              "  inputElement.disabled = false;\n",
              "\n",
              "  const outputElement = document.getElementById(outputId);\n",
              "  outputElement.innerHTML = '';\n",
              "\n",
              "  const pickedPromise = new Promise((resolve) => {\n",
              "    inputElement.addEventListener('change', (e) => {\n",
              "      resolve(e.target.files);\n",
              "    });\n",
              "  });\n",
              "\n",
              "  const cancel = document.createElement('button');\n",
              "  inputElement.parentElement.appendChild(cancel);\n",
              "  cancel.textContent = 'Cancel upload';\n",
              "  const cancelPromise = new Promise((resolve) => {\n",
              "    cancel.onclick = () => {\n",
              "      resolve(null);\n",
              "    };\n",
              "  });\n",
              "\n",
              "  // Wait for the user to pick the files.\n",
              "  const files = yield {\n",
              "    promise: Promise.race([pickedPromise, cancelPromise]),\n",
              "    response: {\n",
              "      action: 'starting',\n",
              "    }\n",
              "  };\n",
              "\n",
              "  cancel.remove();\n",
              "\n",
              "  // Disable the input element since further picks are not allowed.\n",
              "  inputElement.disabled = true;\n",
              "\n",
              "  if (!files) {\n",
              "    return {\n",
              "      response: {\n",
              "        action: 'complete',\n",
              "      }\n",
              "    };\n",
              "  }\n",
              "\n",
              "  for (const file of files) {\n",
              "    const li = document.createElement('li');\n",
              "    li.append(span(file.name, {fontWeight: 'bold'}));\n",
              "    li.append(span(\n",
              "        `(${file.type || 'n/a'}) - ${file.size} bytes, ` +\n",
              "        `last modified: ${\n",
              "            file.lastModifiedDate ? file.lastModifiedDate.toLocaleDateString() :\n",
              "                                    'n/a'} - `));\n",
              "    const percent = span('0% done');\n",
              "    li.appendChild(percent);\n",
              "\n",
              "    outputElement.appendChild(li);\n",
              "\n",
              "    const fileDataPromise = new Promise((resolve) => {\n",
              "      const reader = new FileReader();\n",
              "      reader.onload = (e) => {\n",
              "        resolve(e.target.result);\n",
              "      };\n",
              "      reader.readAsArrayBuffer(file);\n",
              "    });\n",
              "    // Wait for the data to be ready.\n",
              "    let fileData = yield {\n",
              "      promise: fileDataPromise,\n",
              "      response: {\n",
              "        action: 'continue',\n",
              "      }\n",
              "    };\n",
              "\n",
              "    // Use a chunked sending to avoid message size limits. See b/62115660.\n",
              "    let position = 0;\n",
              "    do {\n",
              "      const length = Math.min(fileData.byteLength - position, MAX_PAYLOAD_SIZE);\n",
              "      const chunk = new Uint8Array(fileData, position, length);\n",
              "      position += length;\n",
              "\n",
              "      const base64 = btoa(String.fromCharCode.apply(null, chunk));\n",
              "      yield {\n",
              "        response: {\n",
              "          action: 'append',\n",
              "          file: file.name,\n",
              "          data: base64,\n",
              "        },\n",
              "      };\n",
              "\n",
              "      let percentDone = fileData.byteLength === 0 ?\n",
              "          100 :\n",
              "          Math.round((position / fileData.byteLength) * 100);\n",
              "      percent.textContent = `${percentDone}% done`;\n",
              "\n",
              "    } while (position < fileData.byteLength);\n",
              "  }\n",
              "\n",
              "  // All done.\n",
              "  yield {\n",
              "    response: {\n",
              "      action: 'complete',\n",
              "    }\n",
              "  };\n",
              "}\n",
              "\n",
              "scope.google = scope.google || {};\n",
              "scope.google.colab = scope.google.colab || {};\n",
              "scope.google.colab._files = {\n",
              "  _uploadFiles,\n",
              "  _uploadFilesContinue,\n",
              "};\n",
              "})(self);\n",
              "</script> "
            ]
          },
          "metadata": {}
        },
        {
          "output_type": "stream",
          "name": "stdout",
          "text": [
            "Saving KDDTrain%2B.arff to KDDTrain%2B (1).arff\n"
          ]
        }
      ]
    },
    {
      "cell_type": "code",
      "source": [
        "df = load_kdd_dataset(\"KDDTrain%2B.arff\")"
      ],
      "metadata": {
        "id": "2uN6oOzVsEN7"
      },
      "execution_count": 6,
      "outputs": []
    },
    {
      "cell_type": "code",
      "source": [
        "df.info()"
      ],
      "metadata": {
        "id": "-qwJ25YXCXmH",
        "outputId": "dd4e5688-b789-44e1-969d-eef052258407",
        "colab": {
          "base_uri": "https://localhost:8080/"
        }
      },
      "execution_count": 7,
      "outputs": [
        {
          "output_type": "stream",
          "name": "stdout",
          "text": [
            "<class 'pandas.core.frame.DataFrame'>\n",
            "RangeIndex: 125973 entries, 0 to 125972\n",
            "Data columns (total 42 columns):\n",
            " #   Column                       Non-Null Count   Dtype  \n",
            "---  ------                       --------------   -----  \n",
            " 0   duration                     125973 non-null  float64\n",
            " 1   protocol_type                125973 non-null  object \n",
            " 2   service                      125973 non-null  object \n",
            " 3   flag                         125973 non-null  object \n",
            " 4   src_bytes                    125973 non-null  float64\n",
            " 5   dst_bytes                    125973 non-null  float64\n",
            " 6   land                         125973 non-null  object \n",
            " 7   wrong_fragment               125973 non-null  float64\n",
            " 8   urgent                       125973 non-null  float64\n",
            " 9   hot                          125973 non-null  float64\n",
            " 10  num_failed_logins            125973 non-null  float64\n",
            " 11  logged_in                    125973 non-null  object \n",
            " 12  num_compromised              125973 non-null  float64\n",
            " 13  root_shell                   125973 non-null  float64\n",
            " 14  su_attempted                 125973 non-null  float64\n",
            " 15  num_root                     125973 non-null  float64\n",
            " 16  num_file_creations           125973 non-null  float64\n",
            " 17  num_shells                   125973 non-null  float64\n",
            " 18  num_access_files             125973 non-null  float64\n",
            " 19  num_outbound_cmds            125973 non-null  float64\n",
            " 20  is_host_login                125973 non-null  object \n",
            " 21  is_guest_login               125973 non-null  object \n",
            " 22  count                        125973 non-null  float64\n",
            " 23  srv_count                    125973 non-null  float64\n",
            " 24  serror_rate                  125973 non-null  float64\n",
            " 25  srv_serror_rate              125973 non-null  float64\n",
            " 26  rerror_rate                  125973 non-null  float64\n",
            " 27  srv_rerror_rate              125973 non-null  float64\n",
            " 28  same_srv_rate                125973 non-null  float64\n",
            " 29  diff_srv_rate                125973 non-null  float64\n",
            " 30  srv_diff_host_rate           125973 non-null  float64\n",
            " 31  dst_host_count               125973 non-null  float64\n",
            " 32  dst_host_srv_count           125973 non-null  float64\n",
            " 33  dst_host_same_srv_rate       125973 non-null  float64\n",
            " 34  dst_host_diff_srv_rate       125973 non-null  float64\n",
            " 35  dst_host_same_src_port_rate  125973 non-null  float64\n",
            " 36  dst_host_srv_diff_host_rate  125973 non-null  float64\n",
            " 37  dst_host_serror_rate         125973 non-null  float64\n",
            " 38  dst_host_srv_serror_rate     125973 non-null  float64\n",
            " 39  dst_host_rerror_rate         125973 non-null  float64\n",
            " 40  dst_host_srv_rerror_rate     125973 non-null  float64\n",
            " 41  class                        125973 non-null  object \n",
            "dtypes: float64(34), object(8)\n",
            "memory usage: 40.4+ MB\n"
          ]
        }
      ]
    },
    {
      "cell_type": "code",
      "source": [
        "X = df.drop(columns=['class'])\n",
        "y = df['class']\n",
        "\n",
        "X_train, X_test, y_train, y_test = train_test_split(X, y, test_size=0.4, random_state=42)"
      ],
      "metadata": {
        "id": "GT4905MTCZ0G"
      },
      "execution_count": 8,
      "outputs": []
    },
    {
      "cell_type": "code",
      "source": [
        "X_train.info()"
      ],
      "metadata": {
        "id": "khtK9fhCENgF",
        "outputId": "36dc97b1-24ba-4d65-9eef-269e854e7c1a",
        "colab": {
          "base_uri": "https://localhost:8080/"
        }
      },
      "execution_count": 9,
      "outputs": [
        {
          "output_type": "stream",
          "name": "stdout",
          "text": [
            "<class 'pandas.core.frame.DataFrame'>\n",
            "Index: 75583 entries, 98320 to 121958\n",
            "Data columns (total 41 columns):\n",
            " #   Column                       Non-Null Count  Dtype  \n",
            "---  ------                       --------------  -----  \n",
            " 0   duration                     75583 non-null  float64\n",
            " 1   protocol_type                75583 non-null  object \n",
            " 2   service                      75583 non-null  object \n",
            " 3   flag                         75583 non-null  object \n",
            " 4   src_bytes                    75583 non-null  float64\n",
            " 5   dst_bytes                    75583 non-null  float64\n",
            " 6   land                         75583 non-null  object \n",
            " 7   wrong_fragment               75583 non-null  float64\n",
            " 8   urgent                       75583 non-null  float64\n",
            " 9   hot                          75583 non-null  float64\n",
            " 10  num_failed_logins            75583 non-null  float64\n",
            " 11  logged_in                    75583 non-null  object \n",
            " 12  num_compromised              75583 non-null  float64\n",
            " 13  root_shell                   75583 non-null  float64\n",
            " 14  su_attempted                 75583 non-null  float64\n",
            " 15  num_root                     75583 non-null  float64\n",
            " 16  num_file_creations           75583 non-null  float64\n",
            " 17  num_shells                   75583 non-null  float64\n",
            " 18  num_access_files             75583 non-null  float64\n",
            " 19  num_outbound_cmds            75583 non-null  float64\n",
            " 20  is_host_login                75583 non-null  object \n",
            " 21  is_guest_login               75583 non-null  object \n",
            " 22  count                        75583 non-null  float64\n",
            " 23  srv_count                    75583 non-null  float64\n",
            " 24  serror_rate                  75583 non-null  float64\n",
            " 25  srv_serror_rate              75583 non-null  float64\n",
            " 26  rerror_rate                  75583 non-null  float64\n",
            " 27  srv_rerror_rate              75583 non-null  float64\n",
            " 28  same_srv_rate                75583 non-null  float64\n",
            " 29  diff_srv_rate                75583 non-null  float64\n",
            " 30  srv_diff_host_rate           75583 non-null  float64\n",
            " 31  dst_host_count               75583 non-null  float64\n",
            " 32  dst_host_srv_count           75583 non-null  float64\n",
            " 33  dst_host_same_srv_rate       75583 non-null  float64\n",
            " 34  dst_host_diff_srv_rate       75583 non-null  float64\n",
            " 35  dst_host_same_src_port_rate  75583 non-null  float64\n",
            " 36  dst_host_srv_diff_host_rate  75583 non-null  float64\n",
            " 37  dst_host_serror_rate         75583 non-null  float64\n",
            " 38  dst_host_srv_serror_rate     75583 non-null  float64\n",
            " 39  dst_host_rerror_rate         75583 non-null  float64\n",
            " 40  dst_host_srv_rerror_rate     75583 non-null  float64\n",
            "dtypes: float64(34), object(7)\n",
            "memory usage: 24.2+ MB\n"
          ]
        }
      ]
    },
    {
      "cell_type": "code",
      "source": [
        "X_test.info()"
      ],
      "metadata": {
        "id": "2CGHNL9YGRKD",
        "outputId": "d67bc9b9-4141-4fab-d0c3-efd9d84481ab",
        "colab": {
          "base_uri": "https://localhost:8080/"
        }
      },
      "execution_count": 10,
      "outputs": [
        {
          "output_type": "stream",
          "name": "stdout",
          "text": [
            "<class 'pandas.core.frame.DataFrame'>\n",
            "Index: 50390 entries, 378 to 89600\n",
            "Data columns (total 41 columns):\n",
            " #   Column                       Non-Null Count  Dtype  \n",
            "---  ------                       --------------  -----  \n",
            " 0   duration                     50390 non-null  float64\n",
            " 1   protocol_type                50390 non-null  object \n",
            " 2   service                      50390 non-null  object \n",
            " 3   flag                         50390 non-null  object \n",
            " 4   src_bytes                    50390 non-null  float64\n",
            " 5   dst_bytes                    50390 non-null  float64\n",
            " 6   land                         50390 non-null  object \n",
            " 7   wrong_fragment               50390 non-null  float64\n",
            " 8   urgent                       50390 non-null  float64\n",
            " 9   hot                          50390 non-null  float64\n",
            " 10  num_failed_logins            50390 non-null  float64\n",
            " 11  logged_in                    50390 non-null  object \n",
            " 12  num_compromised              50390 non-null  float64\n",
            " 13  root_shell                   50390 non-null  float64\n",
            " 14  su_attempted                 50390 non-null  float64\n",
            " 15  num_root                     50390 non-null  float64\n",
            " 16  num_file_creations           50390 non-null  float64\n",
            " 17  num_shells                   50390 non-null  float64\n",
            " 18  num_access_files             50390 non-null  float64\n",
            " 19  num_outbound_cmds            50390 non-null  float64\n",
            " 20  is_host_login                50390 non-null  object \n",
            " 21  is_guest_login               50390 non-null  object \n",
            " 22  count                        50390 non-null  float64\n",
            " 23  srv_count                    50390 non-null  float64\n",
            " 24  serror_rate                  50390 non-null  float64\n",
            " 25  srv_serror_rate              50390 non-null  float64\n",
            " 26  rerror_rate                  50390 non-null  float64\n",
            " 27  srv_rerror_rate              50390 non-null  float64\n",
            " 28  same_srv_rate                50390 non-null  float64\n",
            " 29  diff_srv_rate                50390 non-null  float64\n",
            " 30  srv_diff_host_rate           50390 non-null  float64\n",
            " 31  dst_host_count               50390 non-null  float64\n",
            " 32  dst_host_srv_count           50390 non-null  float64\n",
            " 33  dst_host_same_srv_rate       50390 non-null  float64\n",
            " 34  dst_host_diff_srv_rate       50390 non-null  float64\n",
            " 35  dst_host_same_src_port_rate  50390 non-null  float64\n",
            " 36  dst_host_srv_diff_host_rate  50390 non-null  float64\n",
            " 37  dst_host_serror_rate         50390 non-null  float64\n",
            " 38  dst_host_srv_serror_rate     50390 non-null  float64\n",
            " 39  dst_host_rerror_rate         50390 non-null  float64\n",
            " 40  dst_host_srv_rerror_rate     50390 non-null  float64\n",
            "dtypes: float64(34), object(7)\n",
            "memory usage: 16.1+ MB\n"
          ]
        }
      ]
    },
    {
      "cell_type": "code",
      "source": [
        "Val_set = X_test\n",
        "test_set = y_test\n",
        "train_set = X_train\n",
        "Val_set, test_set = train_test_split(test_set, test_size=0.5, random_state=42)"
      ],
      "metadata": {
        "id": "jKymJyhgGmQj"
      },
      "execution_count": 11,
      "outputs": []
    },
    {
      "cell_type": "code",
      "source": [
        "print(f\"Longitud del Test Set: {len(test_set)}\")\n",
        "print(f\"Longitud del Validation Set: {len(Val_set)}\")\n",
        "print(f\"Longitud del Training Set: {len(train_set)}\")"
      ],
      "metadata": {
        "colab": {
          "base_uri": "https://localhost:8080/"
        },
        "id": "G2-9bhDuHgGr",
        "outputId": "2223e65b-6f0d-48de-fcff-5a896919c426"
      },
      "execution_count": 12,
      "outputs": [
        {
          "output_type": "stream",
          "name": "stdout",
          "text": [
            "Longitud del Test Set: 25195\n",
            "Longitud del Validation Set: 25195\n",
            "Longitud del Training Set: 75583\n"
          ]
        }
      ]
    },
    {
      "cell_type": "code",
      "source": [
        "train_set, test_set = train_test_split(df, test_size=0.4,\n",
        "random_state=42, shuffle=False)"
      ],
      "metadata": {
        "id": "QJkBPbjOImxr"
      },
      "execution_count": 13,
      "outputs": []
    },
    {
      "cell_type": "code",
      "source": [
        "train_set, test_set = train_test_split(df, test_size=0.4,\n",
        "random_state=42, stratify=df[\"protocol_type\"])"
      ],
      "metadata": {
        "id": "1RbasL3SKfiL"
      },
      "execution_count": 14,
      "outputs": []
    },
    {
      "cell_type": "code",
      "source": [
        "def train_val_test_split(df, rstate=42, shuffle=True, stratify=None):\n",
        "    strat = df[stratify] if stratify else None\n",
        "    train_set, test_set = train_test_split(\n",
        "    df, test_size=0.4, random_state=rstate, shuffle=shuffle, stratify=strat)\n",
        "    strat = test_set[stratify] if stratify else None\n",
        "    val_set, test_set = train_test_split(test_set, test_size=0.5,\n",
        "    random_state=rstate, shuffle=shuffle, stratify=strat)\n",
        "    return (train_set, val_set, test_set)"
      ],
      "metadata": {
        "id": "oHAFhHgFKhh3"
      },
      "execution_count": 15,
      "outputs": []
    },
    {
      "cell_type": "code",
      "source": [
        "print(f\"Longitud del conjunto de datos: {len(df)}\")"
      ],
      "metadata": {
        "id": "so-6SLPPKoFp",
        "outputId": "92791eaa-f55a-4216-bcd1-db25b261b2f4",
        "colab": {
          "base_uri": "https://localhost:8080/"
        }
      },
      "execution_count": 16,
      "outputs": [
        {
          "output_type": "stream",
          "name": "stdout",
          "text": [
            "Longitud del conjunto de datos: 125973\n"
          ]
        }
      ]
    },
    {
      "cell_type": "code",
      "source": [
        "train_set, val_set, test_set = train_val_test_split(df, stratify='protocol_type')"
      ],
      "metadata": {
        "id": "vPfX5rmPK4tu"
      },
      "execution_count": 17,
      "outputs": []
    },
    {
      "cell_type": "code",
      "source": [
        "print(f\"Longitud del Test Set: {len(test_set)}\")\n",
        "print(f\"Longitud del Validation Set: {len(Val_set)}\")\n",
        "print(f\"Longitud del Training Set: {len(train_set)}\")"
      ],
      "metadata": {
        "id": "zpdp7xuBK7Dy",
        "outputId": "527f038f-253f-4115-8086-855529f7e6a8",
        "colab": {
          "base_uri": "https://localhost:8080/"
        }
      },
      "execution_count": 18,
      "outputs": [
        {
          "output_type": "stream",
          "name": "stdout",
          "text": [
            "Longitud del Test Set: 25195\n",
            "Longitud del Validation Set: 25195\n",
            "Longitud del Training Set: 75583\n"
          ]
        }
      ]
    },
    {
      "cell_type": "code",
      "source": [
        "fig, ax = plt.subplots()\n",
        "x = train_set[\"protocol_type\"]\n",
        "ax.hist(x)\n",
        "plt.show()"
      ],
      "metadata": {
        "id": "rhn3JU2aLFVN",
        "outputId": "87e331f9-e679-4bfd-a2c8-a5be07926fd9",
        "colab": {
          "base_uri": "https://localhost:8080/",
          "height": 430
        }
      },
      "execution_count": 22,
      "outputs": [
        {
          "output_type": "display_data",
          "data": {
            "text/plain": [
              "<Figure size 640x480 with 1 Axes>"
            ],
            "image/png": "[encoded data removed]"
          },
          "metadata": {}
        }
      ]
    },
    {
      "cell_type": "code",
      "source": [
        "fig, ax = plt.subplots()\n",
        "x = df[\"protocol_type\"]\n",
        "ax.hist(x)\n",
        "plt.show()"
      ],
      "metadata": {
        "id": "Y6uQn1mOMkwp",
        "outputId": "08808769-60fb-459f-fd86-600f931056ba",
        "colab": {
          "base_uri": "https://localhost:8080/",
          "height": 430
        }
      },
      "execution_count": 21,
      "outputs": [
        {
          "output_type": "display_data",
          "data": {
            "text/plain": [
              "<Figure size 640x480 with 1 Axes>"
            ],
            "image/png": "[encoded data removed]"
          },
          "metadata": {}
        }
      ]
    },
    {
      "cell_type": "code",
      "source": [
        "fig, ax = plt.subplots()\n",
        "x = test_set[\"protocol_type\"]\n",
        "ax.hist(x)\n",
        "plt.show()"
      ],
      "metadata": {
        "id": "4LsToyWRNGM7",
        "outputId": "e1a7fec0-3eab-40be-b9fb-3cafa36020aa",
        "colab": {
          "base_uri": "https://localhost:8080/",
          "height": 430
        }
      },
      "execution_count": 23,
      "outputs": [
        {
          "output_type": "display_data",
          "data": {
            "text/plain": [
              "<Figure size 640x480 with 1 Axes>"
            ],
            "image/png": "[encoded data removed]"
          },
          "metadata": {}
        }
      ]
    }
  ],
  "metadata": {
    "colab": {
      "name": "Te damos la bienvenida a Colaboratory",
      "provenance": [],
      "include_colab_link": true
    },
    "kernelspec": {
      "display_name": "Python 3",
      "name": "python3"
    }
  },
  "nbformat": 4,
  "nbformat_minor": 0
}